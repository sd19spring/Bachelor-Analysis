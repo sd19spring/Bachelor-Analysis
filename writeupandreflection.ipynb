{
 "cells": [
  {
   "cell_type": "markdown",
   "metadata": {},
   "source": [
    "Project Overview [Maximum 200 words]\n",
    "\n",
    "What data source(s) did you use and what technique(s) did you use analyze/process them? What did you hope to learn/create?\n",
    "\n",
    "Implementation [~2-3 paragraphs]\n",
    "\n",
    "Describe your implementation at a system architecture level. You should NOT walk through your code line by line, or explain every function (we can get that from your docstrings). Instead, talk about the major components, algorithms, data structures and how they fit together. You should also discuss at least one design decision where you had to choose between multiple alternatives, and explain why you made the choice you did.\n",
    "\n",
    "Results [~2-3 paragraphs + figures/examples]\n",
    "\n",
    "Present what you accomplished:\n",
    "\n",
    "If you did some text analysis, what interesting things did you find? Graphs or other visualizations may be very useful here for showing your results.\n",
    "If you created a program that does something interesting (e.g. a Markov text synthesizer), be sure to provide a few interesting examples of the program’s output.\n",
    "Alignment [~3 paragraphs]\n",
    "\n",
    "How much alignment did you find between what you set out to explore and the data and tools used to carry out the project? What was set of questions you had that sparked your exploration, and what you imagined an answer might look like upon completion? To what degree did you feel that the data source(s) you selected could help you explore those questions given its limitations? How well did the tools that you employed, given their limitations, serve you during the analysis. How confident are you in the answers they provided.\n",
    "\n",
    "Reflection [~1 paragraph]\n",
    "\n",
    "From a process point of view, what went well? What could you improve? How would you attempt to mitigate the data-related or tool-choice problems with your project? Other possible reflection topics: Was your project appropriately scoped? Did you have a good plan for unit testing? How will you use what you learned going forward? What do you wish you knew before you started that would have helped you succeed?"
   ]
  },
  {
   "cell_type": "markdown",
   "metadata": {},
   "source": [
    "# Project Write-Up and Reflection: The Bachelor 🌹\n",
    "By:  Kristin Aoki"
   ]
  },
  {
   "cell_type": "markdown",
   "metadata": {},
   "source": [
    "# Project Overview"
   ]
  },
  {
   "cell_type": "markdown",
   "metadata": {},
   "source": [
    "For this project I decided to use Twitter as my data source and analyzed my findings using word frequency. The data I collected was from the timeline of ABC's hit reality TV show, _The Bachelor_. From this project, I hoped to learn how to use APIs and figure out the most associated words with this season of _The Bachelor_. As a devoted viewer of the show, I hear many catch phrases in the show and share many of the same reactions as people across the country. By determing the most associated words with this season of _The Bachelor_, I can determine confirm my beliefs of the most stated words."
   ]
  },
  {
   "cell_type": "markdown",
   "metadata": {},
   "source": [
    "# Implementation"
   ]
  },
  {
   "cell_type": "markdown",
   "metadata": {},
   "source": [
    "To accomplish the goal of my project I had to create a Twitter app and implement the keys into my code. To collect my data I decided to look at two different Twitter timelines and #TheBachelor. One timeline was the official Bachelor Twitter page (@BachelorABC), and the other was a popular fan page (@bachelorburnbk). I decide to use these three sections of Twitter because it would provide me well-represented data. Once I mined them from Twitter, I saved the data from timelines to a data frame, then to a .txt file. I saved the data from the hashtag to a .csv file, then copied and pasted the information into a .txt file, so my word frequency code could read the tweets.\n",
    "\n"
   ]
  },
  {
   "cell_type": "markdown",
   "metadata": {},
   "source": [
    "# Results"
   ]
  },
  {
   "cell_type": "markdown",
   "metadata": {},
   "source": [
    "The results of my data included the words that I thought would be included, as well as words that I did not think,  would be included. I knew that Colton (the name of the bachelor), fence, love, and names of the contestants would be some of the most frequent words. However, I did not expect Chris Harrison (host/producer), emojis, values, and beliefs. One word that I expected but did not appear, was virgin/virginity since it is one of the hottest topics of the season. \n",
    "\n",
    "Using Twitter as my data source produced results that I expected, but I had to filter out a lot of words because they were not words or did not pertain to the topic (e.i. this, i'm, no, etc.). A limitation of using twitter is that you can only collect so much data. All the data that I collected was of reactions from the latest episodes of _The Bachelor_. Even though I gave my code parameters to mine tweets from the start of the show (January 7th, 2019), Twitter would not allow me to go back that far and my computer could not store all of that data. Another limitation is that not all tweets related to _The Bachelor_ are posted to the @BachelorABC and @bachelorburnbk timeline or contain #TheBachelor. As a result, I am not able to collect all the data to accurately represent the words most associated with _The Bachelor_.\n",
    "\n",
    "<img src=\"wordcloudBachelorABC.jpg\" width=\"400\"> \n",
    "<img src=\"wordcloudbachelorburnbk.jpg\" width=\"400\">\n",
    "<img src=\"wordcloud#TheBachelor.jpg\" width=\"400\">"
   ]
  },
  {
   "cell_type": "markdown",
   "metadata": {},
   "source": [
    "# Alignment"
   ]
  },
  {
   "cell_type": "markdown",
   "metadata": {},
   "source": []
  },
  {
   "cell_type": "markdown",
   "metadata": {},
   "source": [
    "# Reflection"
   ]
  },
  {
   "cell_type": "markdown",
   "metadata": {},
   "source": []
  }
 ],
 "metadata": {
  "kernelspec": {
   "display_name": "Python 3",
   "language": "python",
   "name": "python3"
  },
  "language_info": {
   "codemirror_mode": {
    "name": "ipython",
    "version": 3
   },
   "file_extension": ".py",
   "mimetype": "text/x-python",
   "name": "python",
   "nbconvert_exporter": "python",
   "pygments_lexer": "ipython3",
   "version": "3.7.1"
  }
 },
 "nbformat": 4,
 "nbformat_minor": 2
}
