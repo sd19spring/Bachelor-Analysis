{
 "cells": [
  {
   "cell_type": "markdown",
   "metadata": {},
   "source": [
    "Project Overview [Maximum 200 words]\n",
    "\n",
    "What data source(s) did you use and what technique(s) did you use analyze/process them? What did you hope to learn/create?\n",
    "\n",
    "Implementation [~2-3 paragraphs]\n",
    "\n",
    "Describe your implementation at a system architecture level. You should NOT walk through your code line by line, or explain every function (we can get that from your docstrings). Instead, talk about the major components, algorithms, data structures and how they fit together. You should also discuss at least one design decision where you had to choose between multiple alternatives, and explain why you made the choice you did.\n",
    "\n",
    "Results [~2-3 paragraphs + figures/examples]\n",
    "\n",
    "Present what you accomplished:\n",
    "\n",
    "If you did some text analysis, what interesting things did you find? Graphs or other visualizations may be very useful here for showing your results.\n",
    "If you created a program that does something interesting (e.g. a Markov text synthesizer), be sure to provide a few interesting examples of the program’s output.\n",
    "Alignment [~3 paragraphs]\n",
    "\n",
    "How much alignment did you find between what you set out to explore and the data and tools used to carry out the project? What was set of questions you had that sparked your exploration, and what you imagined an answer might look like upon completion? To what degree did you feel that the data source(s) you selected could help you explore those questions given its limitations? How well did the tools that you employed, given their limitations, serve you during the analysis. How confident are you in the answers they provided.\n",
    "\n",
    "Reflection [~1 paragraph]\n",
    "\n",
    "From a process point of view, what went well? What could you improve? How would you attempt to mitigate the data-related or tool-choice problems with your project? Other possible reflection topics: Was your project appropriately scoped? Did you have a good plan for unit testing? How will you use what you learned going forward? What do you wish you knew before you started that would have helped you succeed?"
   ]
  },
  {
   "cell_type": "markdown",
   "metadata": {},
   "source": [
    "# Project Write-Up and Reflection\n",
    "By:  Kristin Aoki"
   ]
  },
  {
   "cell_type": "markdown",
   "metadata": {},
   "source": [
    "# Project Overview"
   ]
  },
  {
   "cell_type": "markdown",
   "metadata": {},
   "source": [
    "For this project I decided to use Twitter as my data source and analyzed my findings using word frequency. The data I collected was from the timeline of ABC's hit reality TV show, _The Bachelor_. From this project, I hoped to learn how to use APIs and figure out the most associated words with this season of _The Bachelor_. As a devoted viewer of the show, I hear many catch phrases in the show and share many of the same reactions as people across the contry. By determing the most associated words with this season of _The Bachelor_, I can determine confirm my beliefs of the most stated words."
   ]
  },
  {
   "cell_type": "markdown",
   "metadata": {},
   "source": [
    "# Implementation"
   ]
  },
  {
   "cell_type": "markdown",
   "metadata": {},
   "source": []
  },
  {
   "cell_type": "markdown",
   "metadata": {},
   "source": [
    "# Results"
   ]
  },
  {
   "cell_type": "markdown",
   "metadata": {},
   "source": []
  },
  {
   "cell_type": "markdown",
   "metadata": {},
   "source": [
    "# Alignment"
   ]
  },
  {
   "cell_type": "markdown",
   "metadata": {},
   "source": []
  },
  {
   "cell_type": "markdown",
   "metadata": {},
   "source": [
    "# Reflection"
   ]
  },
  {
   "cell_type": "markdown",
   "metadata": {},
   "source": []
  }
 ],
 "metadata": {
  "kernelspec": {
   "display_name": "Python 3",
   "language": "python",
   "name": "python3"
  },
  "language_info": {
   "codemirror_mode": {
    "name": "ipython",
    "version": 3
   },
   "file_extension": ".py",
   "mimetype": "text/x-python",
   "name": "python",
   "nbconvert_exporter": "python",
   "pygments_lexer": "ipython3",
   "version": "3.7.1"
  }
 },
 "nbformat": 4,
 "nbformat_minor": 2
}
